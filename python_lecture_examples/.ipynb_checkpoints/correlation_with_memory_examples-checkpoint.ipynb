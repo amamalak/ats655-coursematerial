{
 "cells": [
  {
   "cell_type": "code",
   "execution_count": 8,
   "metadata": {
    "collapsed": false
   },
   "outputs": [
    {
     "data": {
      "text/plain": [
       "<module 'general_functions' from '/Users/eabarnes/GoogleDrive/WORK/SOFTWARE/PYTHON/general_functions.pyc'>"
      ]
     },
     "execution_count": 8,
     "metadata": {},
     "output_type": "execute_result"
    }
   ],
   "source": [
    "# %load correlation_with_memory_examples.py\n",
    "#!/usr/bin/env python2\n",
    "\"\"\"\n",
    "Created on %(date)s\n",
    "\n",
    "@author: %(username)s\n",
    "\"\"\"\n",
    "#.............................................\n",
    "# INTITIAL SETUP\n",
    "#.............................................\n",
    "\n",
    "#.............................................\n",
    "# IMPORT STATEMENTS\n",
    "#.............................................\n",
    "import numpy as np\n",
    "import matplotlib.pyplot as plt\n",
    "\n",
    "#from sklearn import datasets, linear_model\n",
    "#import matplotlib.mlab as mlab\n",
    "#import scipy.signal as sig\n",
    "#from scipy import stats\n",
    "#import numpy.linalg as LA\n",
    "#from scipy import interpolate\n",
    "#import numpy.ma as ma\n",
    "#import csv\n",
    "#from numpy import genfromtxt\n",
    "#from mpl_toolkits.basemap import Basemap\n",
    "\n",
    "import general_functions as gf\n",
    "reload(gf)\n",
    "\n",
    "\n",
    "#scipy.linalg"
   ]
  },
  {
   "cell_type": "code",
   "execution_count": null,
   "metadata": {
    "collapsed": false
   },
   "outputs": [
    {
     "data": {
      "text/plain": [
       "<matplotlib.figure.Figure at 0x11b997a10>"
      ]
     },
     "metadata": {},
     "output_type": "display_data"
    },
    {
     "data": {
      "text/plain": [
       "<matplotlib.text.Text at 0x11b6491d0>"
      ]
     },
     "execution_count": 9,
     "metadata": {},
     "output_type": "execute_result"
    }
   ],
   "source": [
    "#%%\n",
    "t = np.arange(0,10000,1.)\n",
    "auto_vec = np.array([0, .4, .7, .9])\n",
    "\n",
    "gf.cfig(1)\n",
    "plt.show()\n",
    "\n",
    "for ia,a in enumerate(auto_vec):\n",
    "\n",
    "    x1 = np.empty((np.size(t),))\n",
    "    \n",
    "    b = np.sqrt(1. - a**2)\n",
    "    x1[0] = np.random.normal(0.,1.,size=1)\n",
    "    \n",
    "    for it,tval in enumerate(t[1:]):\n",
    "        x1[it+1] = a*x1[it] + b*np.random.normal(size=1)\n",
    "\n",
    "    c = np.correlate(x1,x1, 'same')/(np.var(x1)*np.size(x1))\n",
    "    c = c[np.size(c)/2:]    \n",
    "    \n",
    "    gf.fig(1)\n",
    "    plt.plot(np.arange(0,np.size(c)),c,'-')\n",
    "    plt.xlim(-.25,25)\n",
    "\n",
    "gf.plot_zero_lines()    \n",
    "plt.xlabel('lag')\n",
    "plt.ylabel('autocorrelation')    \n",
    "plt.legend(np.ndarray.tolist(auto_vec), title = 'lag-1 autocorrelation')\n",
    "plt.title('autocorrelation of a time series', fontsize = 12)"
   ]
  },
  {
   "cell_type": "code",
   "execution_count": null,
   "metadata": {
    "collapsed": false
   },
   "outputs": [
    {
     "name": "stdout",
     "output_type": "stream",
     "text": [
      "a = 0.0\n"
     ]
    }
   ],
   "source": [
    "#%%\n",
    "t = np.arange(0,1000,1)\n",
    "auto_vec = np.array([0, .4, .7, .9])\n",
    "CORR_VEC = np.empty((1000,np.size(auto_vec)))\n",
    "\n",
    "\n",
    "for ia,a in enumerate(auto_vec):\n",
    "\n",
    "    print 'a = ' + str(a)\n",
    "    b = np.sqrt(1. - a**2)\n",
    "    \n",
    "    x = np.empty((np.size(t),))\n",
    "    y = np.empty((np.size(t),))    \n",
    "    \n",
    "    for ic,cval in enumerate(CORR_VEC[:,0]):\n",
    "        x[0] = np.random.normal(size=1)\n",
    "        y[0] = np.random.normal(size=1)        \n",
    "\n",
    "        for it,tval in enumerate(t[1:]):\n",
    "            x[it+1] = a*x[it] + b*np.random.normal(size=1)\n",
    "            y[it+1] = a*y[it] + b*np.random.normal(size=1)\n",
    "            \n",
    "        c = np.corrcoef(x,y)\n",
    "        CORR_VEC[ic,ia] = c[0,1]\n",
    "        #c = np.correlate(x1,x1, 'same')/(np.var(x1)*np.size(x1))\n",
    "        #c = c[np.size(c)/2:]    "
   ]
  },
  {
   "cell_type": "code",
   "execution_count": null,
   "metadata": {
    "collapsed": false
   },
   "outputs": [],
   "source": [
    "#%% plot results\n",
    "xinc = np.arange(-1.,1.,0.02)\n",
    "\n",
    "gf.cfig(2)\n",
    "\n",
    "iplot = 0\n",
    "hx = np.histogram(CORR_VEC[:,iplot],xinc)\n",
    "plt.plot(hx[1][:-1],hx[0]/float(np.size(CORR_VEC,axis = 0)),'-')\n",
    "\n",
    "iplot = 1\n",
    "hx = np.histogram(CORR_VEC[:,iplot],xinc)\n",
    "plt.plot(hx[1][:-1],hx[0]/float(np.size(CORR_VEC,axis = 0)),'-')\n",
    "\n",
    "iplot = 2\n",
    "hx = np.histogram(CORR_VEC[:,iplot],xinc)\n",
    "plt.plot(hx[1][:-1],hx[0]/float(np.size(CORR_VEC,axis = 0)),'-')\n",
    "\n",
    "iplot = 3\n",
    "hx = np.histogram(CORR_VEC[:,iplot],xinc)\n",
    "plt.plot(hx[1][:-1],hx[0]/float(np.size(CORR_VEC,axis = 0)),'-')\n",
    "\n",
    "gf.plot_zero_lines()    \n",
    "plt.xlabel('correlation')\n",
    "plt.ylabel('frequency')    \n",
    "plt.legend(np.ndarray.tolist(auto_vec), title = 'lag-1 autocorrelation')\n",
    "plt.title('histograms of correlations as a function of time series memory', fontsize = 12)\n",
    "plt.xlim(-.5,.5)\n",
    "\n",
    "plt.show()\n",
    "               "
   ]
  },
  {
   "cell_type": "code",
   "execution_count": null,
   "metadata": {
    "collapsed": true
   },
   "outputs": [],
   "source": []
  }
 ],
 "metadata": {
  "anaconda-cloud": {},
  "kernelspec": {
   "display_name": "Python [default]",
   "language": "python",
   "name": "python2"
  },
  "language_info": {
   "codemirror_mode": {
    "name": "ipython",
    "version": 2
   },
   "file_extension": ".py",
   "mimetype": "text/x-python",
   "name": "python",
   "nbconvert_exporter": "python",
   "pygments_lexer": "ipython2",
   "version": "2.7.13"
  }
 },
 "nbformat": 4,
 "nbformat_minor": 1
}
