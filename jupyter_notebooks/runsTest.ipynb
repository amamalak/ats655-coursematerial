{
 "cells": [
  {
   "cell_type": "markdown",
   "metadata": {},
   "source": [
    "# Runs test example\n",
    "\n",
    "Here I present an example of a simple non-parametric test to determine whether samples in a series are random."
   ]
  },
  {
   "cell_type": "code",
   "execution_count": 7,
   "metadata": {},
   "outputs": [],
   "source": [
    "#!/usr/bin/env python3\n",
    "# -*- coding: utf-8 -*-\n",
    "\n",
    "#.............................................\n",
    "# IMPORT STATEMENTS\n",
    "#.............................................\n",
    "import numpy as np\n",
    "import matplotlib.pyplot as plt\n",
    "import scipy.stats as stats\n",
    "\n",
    "#.............................................\n",
    "# PLOTTING COMMANDS \n",
    "#.............................................\n",
    "import matplotlib as mpl\n",
    "\n",
    "# set figure defaults\n",
    "mpl.rcParams['figure.dpi'] = 150\n",
    "plt.rcParams['figure.figsize'] = (12.0/2, 8.0/2)"
   ]
  },
  {
   "cell_type": "markdown",
   "metadata": {},
   "source": [
    "Define a function to count \"runs\"."
   ]
  },
  {
   "cell_type": "code",
   "execution_count": 8,
   "metadata": {},
   "outputs": [],
   "source": [
    "def count_runs(x):\n",
    "    Npos = 0\n",
    "    Nneg = 0\n",
    "\n",
    "    sgn = np.nan\n",
    "    for val in x:\n",
    "        if(np.sign(val)!=sgn):\n",
    "            if(np.sign(val)>0):\n",
    "                Npos+=1\n",
    "            else:\n",
    "                Nneg+=1\n",
    "            sgn = np.sign(val)\n",
    "\n",
    "    runs = Npos + Nneg        \n",
    "    return runs"
   ]
  },
  {
   "cell_type": "markdown",
   "metadata": {},
   "source": [
    "Make some synthetic data to show how the runs function (above) works. Plot the synthetic data to visualize what is happening."
   ]
  },
  {
   "cell_type": "code",
   "execution_count": 9,
   "metadata": {},
   "outputs": [
    {
     "data": {
      "image/png": "[encoded data removed]",
      "text/plain": [
       "<Figure size 900x600 with 1 Axes>"
      ]
     },
     "metadata": {
      "needs_background": "light"
     },
     "output_type": "display_data"
    }
   ],
   "source": [
    "N = 10\n",
    "x = np.random.uniform(-1.,1.,N)\n",
    "for i,val in enumerate(x):\n",
    "    if(val>0):\n",
    "        plt.bar(i,val, color = 'red')\n",
    "    else:\n",
    "        plt.bar(i,val, color = 'cornflowerblue')\n",
    "\n",
    "plt.title('# Runs = ' + str(count_runs(x)))        \n",
    "plt.show()"
   ]
  },
  {
   "cell_type": "markdown",
   "metadata": {},
   "source": [
    "Now create a series that is 100 in length. Loop through it 2000, mixing it every time and counting the number of runs. I have set the example up this way to ensure we always have exactly the same number of positive and negative values each loop - they are just ordered differently. (The runs test holds for a specific number of positive and negative values.)"
   ]
  },
  {
   "cell_type": "code",
   "execution_count": null,
   "metadata": {},
   "outputs": [],
   "source": [
    "N = 100\n",
    "y = np.random.uniform(-1.,1.,N)\n",
    "\n",
    "runs = np.zeros((2000,))\n",
    "for iloop in np.arange(0,len(runs)):\n",
    "        x = np.random.choice(y,len(y))\n",
    "        runs[iloop] = count_runs(x)\n",
    "        "
   ]
  },
  {
   "cell_type": "markdown",
   "metadata": {},
   "source": [
    "Determine the distribution of runs predicted by theory. Specifically, this is a normal distribution with mean of $\\mu_{theory}$ and standard deviation of $\\sigma_{theory}$ given below."
   ]
  },
  {
   "cell_type": "code",
   "execution_count": null,
   "metadata": {},
   "outputs": [],
   "source": [
    "Npos = len(np.where(x>0)[0])\n",
    "Nneg = len(np.where(x<0)[0])\n",
    "print('# Positive = ' + str(Npos) + ', # Negative = ' + str(Nneg))\n",
    "\n",
    "#Theory\n",
    "N = Npos + Nneg\n",
    "muTheory = 1 + (2*Npos*Nneg)/N\n",
    "sigmaTheory = np.sqrt((muTheory-1)*(muTheory-2)/(N-1))\n",
    "print('muTheory = ' + str(muTheory) + ', sigmaTheory = ' + str(sigmaTheory))"
   ]
  },
  {
   "cell_type": "code",
   "execution_count": null,
   "metadata": {},
   "outputs": [],
   "source": [
    "xbins = np.arange(0,600,1)\n",
    "hx = np.histogram(runs,xbins)\n",
    "plt.plot(xbins[:-1],hx[0]/len(runs), linewidth=2,label='monte carlo')\n",
    "plt.plot(xbins[:-1],stats.norm.pdf(xbins[:-1],loc = muTheory, scale=sigmaTheory),'-',color='darkorange',linewidth=2,label='theory using Normal')\n",
    "plt.xlim(0,N)\n",
    "plt.xlabel('number of runs')\n",
    "plt.ylabel('frequency')\n",
    "plt.legend()\n",
    "plt.show()"
   ]
  },
  {
   "cell_type": "code",
   "execution_count": null,
   "metadata": {},
   "outputs": [],
   "source": []
  }
 ],
 "metadata": {
  "kernelspec": {
   "display_name": "Python 3",
   "language": "python",
   "name": "python3"
  },
  "language_info": {
   "codemirror_mode": {
    "name": "ipython",
    "version": 3
   },
   "file_extension": ".py",
   "mimetype": "text/x-python",
   "name": "python",
   "nbconvert_exporter": "python",
   "pygments_lexer": "ipython3",
   "version": "3.7.3"
  }
 },
 "nbformat": 4,
 "nbformat_minor": 4
}
