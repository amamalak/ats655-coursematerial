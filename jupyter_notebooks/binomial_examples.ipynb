{
 "cells": [
  {
   "cell_type": "markdown",
   "metadata": {},
   "source": [
    "# Quick Tricks w/ the Binomial"
   ]
  },
  {
   "cell_type": "code",
   "execution_count": 1,
   "metadata": {},
   "outputs": [],
   "source": [
    "#!/usr/bin/env python3\n",
    "# -*- coding: utf-8 -*-\n",
    "\n",
    "#.............................................\n",
    "# IMPORT STATEMENTS\n",
    "#.............................................\n",
    "import numpy as np\n",
    "import matplotlib.pyplot as plt\n",
    "import scipy.stats as stats\n",
    "import importlib\n",
    "\n",
    "import general_functions as gf\n",
    "importlib.reload(gf)\n",
    "gf.add_parent_dir_to_path()\n",
    "\n",
    "from lib import class_general_functions as cgf\n",
    "importlib.reload(cgf)\n",
    "\n",
    "#.............................................\n",
    "# PLOTTING COMMANDS\n",
    "#.............................................\n",
    "gf.cc()\n",
    "plt.ioff()"
   ]
  },
  {
   "cell_type": "markdown",
   "metadata": {},
   "source": [
    "## Pinatubo Example"
   ]
  },
  {
   "cell_type": "code",
   "execution_count": 2,
   "metadata": {},
   "outputs": [
    {
     "name": "stdout",
     "output_type": "stream",
     "text": [
      "k = 0, sum = 6.103515625000003e-05\n",
      "k = 1, sum = 0.0009155273437500037\n",
      "k = 2, sum = 0.006469726562500035\n",
      "k = 3, sum = 0.028686523437500073\n",
      "k = 4, sum = 0.08978271484375004\n",
      "k = 5, sum = 0.21197509765625022\n",
      "k = 6, sum = 0.3952636718750005\n",
      "k = 7, sum = 0.6047363281250009\n",
      "k = 8, sum = 0.7880249023437511\n",
      "k = 9, sum = 0.9102172851562513\n",
      "k = 10, sum = 0.9713134765625013\n",
      "k = 11, sum = 0.9935302734375013\n",
      "k = 12, sum = 0.9990844726562513\n",
      "k = 13, sum = 0.9999389648437513\n",
      "k = 14, sum = 1.0000000000000013\n"
     ]
    }
   ],
   "source": [
    "N = 14\n",
    "p = 0.5\n",
    "s = 0\n",
    "for k in np.arange(0,N+1):\n",
    "    prob = stats.binom.pmf(k,N,p)\n",
    "    s = s + prob\n",
    "    \n",
    "    print('k = ' + str(k) + ', sum = ' + str(s))"
   ]
  },
  {
   "cell_type": "code",
   "execution_count": 3,
   "metadata": {},
   "outputs": [
    {
     "data": {
      "text/plain": [
       "10.0"
      ]
     },
     "execution_count": 3,
     "metadata": {},
     "output_type": "execute_result"
    }
   ],
   "source": [
    "alpha = 0.05\n",
    "stats.binom.ppf(1-alpha,N,p)"
   ]
  },
  {
   "cell_type": "code",
   "execution_count": 22,
   "metadata": {},
   "outputs": [
    {
     "data": {
      "text/plain": [
       "(3.0, 11.0)"
      ]
     },
     "execution_count": 22,
     "metadata": {},
     "output_type": "execute_result"
    }
   ],
   "source": [
    "stats.binom.interval(1-alpha, N, p)"
   ]
  },
  {
   "cell_type": "markdown",
   "metadata": {},
   "source": [
    "## CMIP5 Example 1.7.4.3"
   ]
  },
  {
   "cell_type": "code",
   "execution_count": 29,
   "metadata": {},
   "outputs": [
    {
     "name": "stdout",
     "output_type": "stream",
     "text": [
      "k = 0, sum = 3.552713678800511e-15\n",
      "k = 1, sum = 1.7408297026121985e-13\n",
      "k = 2, sum = 4.181543999948212e-12\n",
      "k = 3, sum = 6.562927978847952e-11\n",
      "k = 4, sum = 7.569163074094798e-10\n",
      "k = 5, sum = 6.840242150474192e-09\n",
      "k = 6, sum = 5.0437410692438736e-08\n",
      "k = 7, sum = 3.120204219442268e-07\n",
      "k = 8, sum = 1.6526333546096201e-06\n",
      "k = 9, sum = 7.6109130553448016e-06\n",
      "k = 10, sum = 3.0848203888211585e-05\n",
      "k = 11, sum = 0.00011112248131084499\n",
      "k = 12, sum = 0.00035863483669729005\n",
      "k = 13, sum = 0.0010440536669982315\n",
      "k = 14, sum = 0.0027576007427505623\n",
      "k = 15, sum = 0.0066416407811224175\n",
      "k = 16, sum = 0.014652473360264562\n",
      "k = 17, sum = 0.029731687626884953\n",
      "k = 18, sum = 0.055701445530509194\n",
      "k = 19, sum = 0.09670632643096871\n",
      "k = 20, sum = 0.15616340373663382\n",
      "k = 21, sum = 0.23543950681085554\n",
      "k = 22, sum = 0.3327329060383079\n",
      "k = 23, sum = 0.44271674864325405\n",
      "k = 24, sum = 0.5572832513567403\n",
      "k = 25, sum = 0.6672670939616864\n",
      "k = 26, sum = 0.7645604931891388\n",
      "k = 27, sum = 0.8438365962633605\n",
      "k = 28, sum = 0.9032936735690257\n",
      "k = 29, sum = 0.9442985544694852\n",
      "k = 30, sum = 0.9702683123731094\n",
      "k = 31, sum = 0.9853475266397298\n",
      "k = 32, sum = 0.993358359218872\n",
      "k = 33, sum = 0.9972423992572438\n",
      "k = 34, sum = 0.9989559463329961\n",
      "k = 35, sum = 0.999641365163297\n",
      "k = 36, sum = 0.9998888775186835\n",
      "k = 37, sum = 0.9999691517961061\n",
      "k = 38, sum = 0.999992389086939\n",
      "k = 39, sum = 0.9999983473666397\n",
      "k = 40, sum = 0.9999996879795724\n",
      "k = 41, sum = 0.9999999495625836\n",
      "k = 42, sum = 0.9999999931597522\n",
      "k = 43, sum = 0.999999999243078\n",
      "k = 44, sum = 0.9999999999343651\n",
      "k = 45, sum = 0.9999999999958128\n",
      "k = 46, sum = 0.9999999999998203\n",
      "k = 47, sum = 0.9999999999999908\n",
      "k = 48, sum = 0.9999999999999943\n"
     ]
    }
   ],
   "source": [
    "N = 48\n",
    "p = 0.5\n",
    "s = 0\n",
    "for k in np.arange(0,N+1):\n",
    "    prob = stats.binom.pmf(k,N,p)\n",
    "    s = s + prob\n",
    "    \n",
    "    print('k = ' + str(k) + ', sum = ' + str(s))"
   ]
  },
  {
   "cell_type": "code",
   "execution_count": 27,
   "metadata": {},
   "outputs": [
    {
     "data": {
      "text/plain": [
       "30.0"
      ]
     },
     "execution_count": 27,
     "metadata": {},
     "output_type": "execute_result"
    }
   ],
   "source": [
    "alpha = 0.05\n",
    "stats.binom.ppf(1-alpha,48,0.5)"
   ]
  },
  {
   "cell_type": "code",
   "execution_count": 28,
   "metadata": {},
   "outputs": [
    {
     "data": {
      "text/plain": [
       "(17.0, 31.0)"
      ]
     },
     "execution_count": 28,
     "metadata": {},
     "output_type": "execute_result"
    }
   ],
   "source": [
    "stats.binom.interval(1-alpha, N, p)"
   ]
  },
  {
   "cell_type": "code",
   "execution_count": null,
   "metadata": {},
   "outputs": [],
   "source": []
  }
 ],
 "metadata": {
  "kernelspec": {
   "display_name": "Python 3",
   "language": "python",
   "name": "python3"
  },
  "language_info": {
   "codemirror_mode": {
    "name": "ipython",
    "version": 3
   },
   "file_extension": ".py",
   "mimetype": "text/x-python",
   "name": "python",
   "nbconvert_exporter": "python",
   "pygments_lexer": "ipython3",
   "version": "3.6.4"
  }
 },
 "nbformat": 4,
 "nbformat_minor": 2
}
