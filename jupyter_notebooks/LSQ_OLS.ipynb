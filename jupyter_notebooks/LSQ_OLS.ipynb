{
 "cells": [
  {
   "cell_type": "markdown",
   "metadata": {},
   "source": [
    "# Comparison of Ordinary Least-Squares and Orthogonal Least Squares Regression\n",
    "#### by Elizabeth Barnes\n",
    "\n",
    "Comparing two ways of \"fitting a straight line\"."
   ]
  },
  {
   "cell_type": "code",
   "execution_count": 13,
   "metadata": {},
   "outputs": [],
   "source": [
    "#!/usr/bin/env python3\n",
    "# -*- coding: utf-8 -*-\n",
    "\n",
    "#.............................................\n",
    "# IMPORT STATEMENTS\n",
    "#.............................................\n",
    "import numpy as np\n",
    "import matplotlib.pyplot as plt\n",
    "\n",
    "from sklearn import datasets, linear_model\n",
    "from scipy import stats, odr\n",
    "import numpy.linalg as LA\n",
    "\n",
    "#.............................................\n",
    "# PLOTTING COMMANDS\n",
    "#.............................................\n",
    "import matplotlib as mpl\n",
    "\n",
    "# set figure defaults\n",
    "mpl.rcParams['figure.dpi'] = 150\n",
    "plt.rcParams['figure.figsize'] = (12.0/2, 8.0/2)"
   ]
  },
  {
   "cell_type": "markdown",
   "metadata": {},
   "source": [
    "We first need to setup our data. I am going to choose to have $x$ be a random normal variable and $y$ is just a linear function of $x$ but with some added Gaussian noise so that the fit is not perfect."
   ]
  },
  {
   "cell_type": "code",
   "execution_count": 14,
   "metadata": {},
   "outputs": [],
   "source": [
    "#setup my data\n",
    "x = 5.*np.random.randn(50)\n",
    "y = x+5.+3.*np.random.randn(len(x))\n",
    "\n",
    "# substract the means to make things easier to visualize\n",
    "x = x - np.mean(x)\n",
    "y = y - np.mean(y)"
   ]
  },
  {
   "cell_type": "code",
   "execution_count": 15,
   "metadata": {},
   "outputs": [
    {
     "data": {
      "image/png": "[encoded data removed]",
      "text/plain": [
       "<Figure size 900x600 with 1 Axes>"
      ]
     },
     "metadata": {
      "needs_background": "light"
     },
     "output_type": "display_data"
    }
   ],
   "source": [
    "#plot the data points\n",
    "\n",
    "plt.figure()\n",
    "plt.plot(x,y,'ok',markersize = 5, label = 'DATA')\n",
    "plt.ylabel('y value')\n",
    "plt.xlabel('x value')\n",
    "plt.legend(frameon = 0, loc = 'upper left')\n",
    "plt.xlim([-15,15])\n",
    "plt.ylim([-30, 30])\n",
    "\n",
    "plt.show()"
   ]
  },
  {
   "cell_type": "markdown",
   "metadata": {},
   "source": [
    "### Ordinary Least Squares Regression\n",
    "Our next step is to fit a line through the data - where the line is determined using ordinary least squares regression (OLS)."
   ]
  },
  {
   "cell_type": "code",
   "execution_count": null,
   "metadata": {},
   "outputs": [],
   "source": [
    "plt.figure()\n",
    "plt.plot(x,y,'ok',markersize = 5, label = 'DATA')\n",
    "plt.ylabel('y value')\n",
    "plt.xlabel('x value')\n",
    "plt.legend(frameon = 0, loc = 'upper left')\n",
    "plt.xlim([-15,15])\n",
    "plt.ylim([-30, 30])\n",
    "\n",
    "# x versus y\n",
    "slope, intercept, r_value, p_value, std_err = stats.linregress(x,y)\n",
    "x_plot = np.arange(-14,14,.1) #x-data for plotting line so it extends beyond the dots\n",
    "plt.plot(x_plot,intercept+x_plot*slope,'-',color = 'cornflowerblue', label = 'LSQ: y vs x')\n",
    "plt.legend()\n",
    "plt.show()"
   ]
  },
  {
   "cell_type": "markdown",
   "metadata": {},
   "source": [
    "If you had no reason to place make x the independent and y the dependent variable, you could imagine instead fitting an OLS line where y is the independent variable (and x the dependent). Below we do just that, but then we flip the line at the very end so that we can plot it on our same figure where the x value lies along the bottom axis (and the y value lies along the vertical axis)."
   ]
  },
  {
   "cell_type": "code",
   "execution_count": null,
   "metadata": {},
   "outputs": [],
   "source": [
    "plt.figure()\n",
    "plt.plot(x,y,'ok',markersize = 5, label = 'DATA')\n",
    "plt.ylabel('y value')\n",
    "plt.xlabel('x value')\n",
    "plt.legend(frameon = 0, loc = 'upper left')\n",
    "plt.xlim([-15,15])\n",
    "plt.ylim([-30, 30])\n",
    "\n",
    "# y versus x\n",
    "slope, intercept, r_value, p_value, std_err = stats.linregress(x,y)\n",
    "x_plot = np.arange(-14,14,.1) #x-data for plotting line so it extends beyond the dots\n",
    "plt.plot(x_plot,intercept+x_plot*slope,'-',color = 'cornflowerblue', label = 'LSQ: y vs x')\n",
    "\n",
    "# x versus y\n",
    "slope, intercept, r_value, p_value, std_err = stats.linregress(y,x)\n",
    "plt.plot(x_plot,(1./slope)*x_plot - intercept/slope,'-',color = 'navy', label = 'LSQ: x vs y')\n",
    "plt.legend(frameon = 0, loc = 'upper left', fontsize = 6)\n",
    "\n",
    "plt.show()"
   ]
  },
  {
   "cell_type": "markdown",
   "metadata": {},
   "source": [
    "Important! Notice how the two OLS lines _are not the same!_ That is, **your choice of which variable is the independent variable and which is the dependent variable matters!** \n",
    "\n",
    "To see why this is the case, below is a little illustration of what ordinary least squares regression is doing. Namely, it is trying to minimize the _vertical_ errors, and thus, flipping x and y makes a difference! (If this doesn't make sense, take a look at the orthogonal least squares example below and the difference should be more clear)."
   ]
  },
  {
   "cell_type": "code",
   "execution_count": null,
   "metadata": {},
   "outputs": [],
   "source": [
    "xvals = (1,2,4,5)\n",
    "yvals = (.2,2.9,2.9,5.9)\n",
    "\n",
    "xplot = np.linspace(-15,15,100)\n",
    "\n",
    "plt.figure(figsize=(3,3))\n",
    "plt.plot(xvals,yvals,'ok',markersize = 5, label = 'data')\n",
    "plt.ylabel('y')\n",
    "plt.xlabel('x')\n",
    "\n",
    "slope, intercept, r_value, p_value, std_err = stats.linregress(xvals,yvals)\n",
    "plt.plot(xplot,xplot,'--')\n",
    "\n",
    "for i,val in enumerate(xvals):\n",
    "    plt.plot([val,val],[yvals[i],val])\n",
    "\n",
    "plt.title('ordinary least squares')\n",
    "plt.xlim([-2,8])\n",
    "plt.ylim([-2,8])\n",
    "\n",
    "frame1 = plt.gca()\n",
    "frame1.axes.xaxis.set_ticks([])\n",
    "frame1.axes.yaxis.set_ticks([])\n",
    "plt.text(3,-1,'vertical offsets', style = 'italic')\n",
    "\n",
    "plt.show()"
   ]
  },
  {
   "cell_type": "markdown",
   "metadata": {},
   "source": [
    "### Orthogonal Least Squares regression\n",
    "The solution is to use a different form of regression, called Orthogonal Least Squares regression. This method does not care which variable is the independent and which is the dependent (you get the same line either way)."
   ]
  },
  {
   "cell_type": "code",
   "execution_count": null,
   "metadata": {},
   "outputs": [],
   "source": [
    "plt.figure()\n",
    "plt.plot(x,y,'ok',markersize = 5, label = 'DATA')\n",
    "plt.ylabel('y value')\n",
    "plt.xlabel('x value')\n",
    "plt.legend(frameon = 0, loc = 'upper left')\n",
    "\n",
    "# y versus x\n",
    "slope, intercept, r_value, p_value, std_err = stats.linregress(x,y)\n",
    "x_plot = np.arange(-14,14,.1) #x-data for plotting line so it extends beyond the dots\n",
    "plt.plot(x_plot,intercept+x_plot*slope,'-',color = 'cornflowerblue', label = 'LSQ: y vs x')\n",
    "\n",
    "# x versus y\n",
    "slope, intercept, r_value, p_value, std_err = stats.linregress(y,x)\n",
    "plt.plot(x_plot,(1./slope)*x_plot - intercept/slope,'-',color = 'navy', label = 'LSQ: x vs y')\n",
    "plt.legend(frameon = 0, loc = 'upper left', fontsize = 6)\n",
    "\n",
    "# fit orthogonal least squares regression line\n",
    "C = np.cov([x,y], rowvar = 1)\n",
    "LAM, E = LA.eig(C)\n",
    "\n",
    "plt.plot(np.array([-E[0][1],E[0][1]])*30.,np.array([-E[1][1],E[1][1]])*30.,'-', \n",
    "        color = 'fuchsia', label  = 'Orth. LS.')\n",
    "plt.legend(frameon = 0, loc = 'upper left', fontsize = 6)\n",
    "\n",
    "plt.xlim([-15,15])\n",
    "plt.ylim([-30, 30])\n",
    "\n",
    "plt.show()"
   ]
  },
  {
   "cell_type": "markdown",
   "metadata": {},
   "source": [
    "The lesson here is that if you don't have a good reason to choose one variable as the independent and the other as the dependent, then use Orthogonal Least Squares regression."
   ]
  },
  {
   "cell_type": "markdown",
   "metadata": {},
   "source": [
    "#### What is orthogonal least squares regression?\n",
    "\n",
    "The idea behind orthogonal least squares is that you minimize the _orthogonal error_ (see figure below), rather than the vertical error. Thus, swapping x and y makes no difference!"
   ]
  },
  {
   "cell_type": "code",
   "execution_count": null,
   "metadata": {},
   "outputs": [],
   "source": [
    "xvals = (1,2,4,5)\n",
    "yvals = (.2,2.9,2.9,5.9)\n",
    "\n",
    "xplot = np.linspace(-15,15,100)\n",
    "\n",
    "#C = np.cov([x,y], rowvar = 1)\n",
    "#LAM, E = LA.eig(C)\n",
    "\n",
    "plt.figure(figsize=(3,3))\n",
    "plt.plot(xvals,yvals,'ok',markersize = 5, label = 'data')\n",
    "plt.ylabel('y')\n",
    "plt.xlabel('x')\n",
    "\n",
    "#plt.plot(np.array([-E[1][1],E[1][1]])*30.,np.array([-E[0][1],E[0][1]])*30.,'--',linewidth=LW/2)\n",
    "plt.plot(xplot,xplot,'--',linewidth = 1)\n",
    "\n",
    "for i,val in enumerate(xvals):\n",
    "    if(i==0):\n",
    "        plt.plot([val,val-.4],[yvals[i],yvals[i]+.4])    \n",
    "    elif(i==1):\n",
    "        plt.plot([val,val+.45],[yvals[i],yvals[i]-.45])    \n",
    "    elif(i==2):        \n",
    "        plt.plot([val,val-.55],[yvals[i],yvals[i]+.55])        \n",
    "    else:\n",
    "        plt.plot([val,val+.45],[yvals[i],yvals[i]-.45])    \n",
    "        \n",
    "plt.title('orthogonal least squares')\n",
    "plt.xlim([-2,8])\n",
    "plt.ylim([-2,8])\n",
    "\n",
    "frame1 = plt.gca()\n",
    "frame1.axes.xaxis.set_ticks([])\n",
    "frame1.axes.yaxis.set_ticks([])\n",
    "plt.text(1.5,-1,'perpendicular offsets', style = 'italic')\n",
    "\n",
    "plt.show()"
   ]
  }
 ],
 "metadata": {
  "kernelspec": {
   "display_name": "Python 3",
   "language": "python",
   "name": "python3"
  },
  "language_info": {
   "codemirror_mode": {
    "name": "ipython",
    "version": 3
   },
   "file_extension": ".py",
   "mimetype": "text/x-python",
   "name": "python",
   "nbconvert_exporter": "python",
   "pygments_lexer": "ipython3",
   "version": "3.7.3"
  }
 },
 "nbformat": 4,
 "nbformat_minor": 4
}
