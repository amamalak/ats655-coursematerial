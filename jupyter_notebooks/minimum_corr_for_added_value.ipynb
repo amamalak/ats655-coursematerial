{
 "cells": [
  {
   "cell_type": "markdown",
   "metadata": {},
   "source": [
    "# Multi-linear regression: how many variables?\n",
    "#### by Elizabeth Barnes\n",
    "If I have two predictors $x_1$ and $x_2$, under what circumstances is the second one useful for predicting $y$?"
   ]
  },
  {
   "cell_type": "code",
   "execution_count": 1,
   "metadata": {},
   "outputs": [],
   "source": [
    "#!/usr/bin/env python3\n",
    "# -*- coding: utf-8 -*-\n",
    "\n",
    "#.............................................\n",
    "# IMPORT STATEMENTS\n",
    "#.............................................\n",
    "import numpy as np\n",
    "import matplotlib.pyplot as plt\n",
    "import importlib\n",
    "from sklearn import linear_model\n",
    "from sklearn import metrics\n"
   ]
  },
  {
   "cell_type": "markdown",
   "metadata": {},
   "source": [
    "Let's start by creating two predictors, x1 and x2, and predictand y. x1 will be totally random, and the others will build upon that."
   ]
  },
  {
   "cell_type": "code",
   "execution_count": 2,
   "metadata": {},
   "outputs": [
    {
     "name": "stdout",
     "output_type": "stream",
     "text": [
      "(100,)\n"
     ]
    }
   ],
   "source": [
    "x1 = np.random.normal(0.,1.,size=100,)\n",
    "print(np.shape(x1))"
   ]
  },
  {
   "cell_type": "markdown",
   "metadata": {},
   "source": [
    "Now we create x2."
   ]
  },
  {
   "cell_type": "code",
   "execution_count": 3,
   "metadata": {},
   "outputs": [
    {
     "name": "stdout",
     "output_type": "stream",
     "text": [
      "(100,)\n"
     ]
    }
   ],
   "source": [
    "a = 0.8\n",
    "b = np.sqrt(1. - a**2)\n",
    "x2 = []\n",
    "\n",
    "# create red-noise time series iteratively\n",
    "for it in np.arange(0,100,1):\n",
    "    x2.append(a*x1[it] + b*np.random.normal(size=1))\n",
    "\n",
    "x2 = np.asarray(x2)[:,0]    \n",
    "print(np.shape(x2))"
   ]
  },
  {
   "cell_type": "code",
   "execution_count": 4,
   "metadata": {},
   "outputs": [
    {
     "data": {
      "text/plain": [
       "0.8491131476492939"
      ]
     },
     "execution_count": 4,
     "metadata": {},
     "output_type": "execute_result"
    }
   ],
   "source": [
    "np.corrcoef(x1,x2)[0,1]"
   ]
  },
  {
   "cell_type": "markdown",
   "metadata": {},
   "source": [
    "Now let's make $y$, which is composed of pieces of x1, x2 and noise."
   ]
  },
  {
   "cell_type": "code",
   "execution_count": 5,
   "metadata": {},
   "outputs": [
    {
     "name": "stdout",
     "output_type": "stream",
     "text": [
      "(100,)\n"
     ]
    }
   ],
   "source": [
    "a = 0.3\n",
    "b = np.sqrt(1. - a**2)\n",
    "y = []\n",
    "\n",
    "# create red-noise time series iteratively\n",
    "for it in np.arange(0,100,1):\n",
    "    y.append(a*x1[it] + (.05)*x2[it] + b*np.random.normal(size=1))\n",
    "\n",
    "y = np.asarray(y)[:,0]    \n",
    "print(np.shape(y))"
   ]
  },
  {
   "cell_type": "markdown",
   "metadata": {},
   "source": [
    "We can calculate the correlations of the predictors and predictands just to confirm that they all have some relationship with one another."
   ]
  },
  {
   "cell_type": "code",
   "execution_count": 6,
   "metadata": {},
   "outputs": [
    {
     "name": "stdout",
     "output_type": "stream",
     "text": [
      "0.8491131476492939\n",
      "0.32252885666693176\n",
      "0.279329862122377\n"
     ]
    }
   ],
   "source": [
    "c12 = np.corrcoef(x1,x2)[0,1]\n",
    "c1y = np.corrcoef(x1,y)[0,1]\n",
    "c2y = np.corrcoef(y,x2)[0,1]\n",
    "\n",
    "print(c12)\n",
    "print(c1y)\n",
    "print(c2y)"
   ]
  },
  {
   "cell_type": "markdown",
   "metadata": {},
   "source": [
    "### Theory"
   ]
  },
  {
   "cell_type": "markdown",
   "metadata": {},
   "source": [
    "Based on theory, the minimum useful correlation of c2y is the following (from theory)..."
   ]
  },
  {
   "cell_type": "code",
   "execution_count": 7,
   "metadata": {},
   "outputs": [
    {
     "name": "stdout",
     "output_type": "stream",
     "text": [
      "0.2738634926921864\n"
     ]
    }
   ],
   "source": [
    "minUseful = np.abs(c1y*c12)\n",
    "print(minUseful)"
   ]
  },
  {
   "cell_type": "markdown",
   "metadata": {},
   "source": [
    "Furthermore, we can show analytically that the variance explained between using x1 versus x1 and x2 is practically identical since x2 doesn't appear to add additional information (i.e. |c2y| < minUseful)."
   ]
  },
  {
   "cell_type": "code",
   "execution_count": 8,
   "metadata": {},
   "outputs": [
    {
     "name": "stdout",
     "output_type": "stream",
     "text": [
      "0.10402486338287821\n",
      "0.1041319618050487\n"
     ]
    }
   ],
   "source": [
    "#just using x1\n",
    "R2 = c1y**2\n",
    "print(R2)\n",
    "\n",
    "#using x1 and x2\n",
    "R2 = (c1y**2 + c2y**2 - 2*c1y*c2y*c12)/(1-c12**2)\n",
    "print(R2)"
   ]
  },
  {
   "cell_type": "markdown",
   "metadata": {},
   "source": [
    "### Actual fits"
   ]
  },
  {
   "cell_type": "markdown",
   "metadata": {},
   "source": [
    "We can confirm the theory now through some fun examples where we actually fit y using x1 and x2. In fact, we see that the fits indeed give us exactly what is expected by theory."
   ]
  },
  {
   "cell_type": "code",
   "execution_count": 9,
   "metadata": {},
   "outputs": [
    {
     "name": "stdout",
     "output_type": "stream",
     "text": [
      "0.10402486338287831\n",
      "0.1041319618050488\n"
     ]
    }
   ],
   "source": [
    "# only x1 predictor\n",
    "X = np.swapaxes([x1],1,0)\n",
    "Y = np.swapaxes([y],1,0)\n",
    "\n",
    "# with sklearn\n",
    "regr = linear_model.LinearRegression()\n",
    "regr.fit(X, Y)\n",
    "R2_x1 = metrics.r2_score(Y,regr.predict(X))\n",
    "print(R2_x1)\n",
    "\n",
    "#---------------------------------------------\n",
    "# both x1 and x2 predictors\n",
    "X = np.swapaxes([x1,x2],1,0)\n",
    "Y = np.swapaxes([y],1,0)\n",
    "\n",
    "# with sklearn\n",
    "regr = linear_model.LinearRegression()\n",
    "regr.fit(X, Y)\n",
    "R2_x12 = metrics.r2_score(Y,regr.predict(X))\n",
    "print(R2_x12)"
   ]
  },
  {
   "cell_type": "markdown",
   "metadata": {},
   "source": [
    "But what is going on here? Why is the $R^2$ slightly higher when we added x2? I thought theory said it shouldn't improve my variance explained?"
   ]
  },
  {
   "cell_type": "markdown",
   "metadata": {},
   "source": [
    "## What about more predictors? (aka _overfitting_)"
   ]
  },
  {
   "cell_type": "code",
   "execution_count": 10,
   "metadata": {},
   "outputs": [
    {
     "data": {
      "image/png": "[encoded data removed]",
      "text/plain": [
       "<Figure size 576x432 with 1 Axes>"
      ]
     },
     "metadata": {
      "needs_background": "light"
     },
     "output_type": "display_data"
    }
   ],
   "source": [
    "X = np.random.normal(0.,1.,size=(100,40))\n",
    "Y = np.random.normal(0.,1.,size=100,)\n",
    "\n",
    "rval = []\n",
    "for n in np.arange(0,np.shape(X)[1]):\n",
    "    # with sklearn\n",
    "    regr = linear_model.LinearRegression()\n",
    "    regr.fit(X[:,0:n+1], Y)\n",
    "    R2 = metrics.r2_score(Y,regr.predict(X[:,0:n+1]))\n",
    "    rval.append(R2)\n",
    "    \n",
    "plt.figure(figsize=(8,6))\n",
    "plt.plot(np.arange(0,np.shape(X)[1]),rval,'o-')\n",
    "plt.xlabel('number of predictors')\n",
    "plt.ylabel('fraction variance explained')\n",
    "plt.title('Variance Explained')\n",
    "plt.show()"
   ]
  },
  {
   "cell_type": "markdown",
   "metadata": {},
   "source": [
    "### Adjusted R2"
   ]
  },
  {
   "cell_type": "markdown",
   "metadata": {},
   "source": [
    "There is a great solution to this - known as the _adjusted $R^2$_. It is a measure of explained variance, but you are penalized (the number decreases) whe too many predictors are used. The adjusted $R^2$ increases only if the new term improves the model more than would be expected by chance."
   ]
  },
  {
   "cell_type": "code",
   "execution_count": 11,
   "metadata": {},
   "outputs": [],
   "source": [
    "def adjustRsquared(r2,n,p):\n",
    "    adjustR2 = 1 - (1-r2)*(n-1)/(n-p-1)\n",
    "    return adjustR2"
   ]
  },
  {
   "cell_type": "code",
   "execution_count": 12,
   "metadata": {},
   "outputs": [
    {
     "name": "stdout",
     "output_type": "stream",
     "text": [
      "0.10402486338287831 0.0948822599480097\n",
      "0.1041319618050488 0.08566045586288484\n"
     ]
    }
   ],
   "source": [
    "# only fitting with x1\n",
    "p=1\n",
    "n = len(x1)\n",
    "adjustR2 = adjustRsquared(R2_x1,n,p)\n",
    "print(R2_x1,adjustR2)\n",
    "\n",
    "# fitting with x1 and x2\n",
    "p = 2\n",
    "n = len(x1)\n",
    "adjustR2 = adjustRsquared(R2_x12,n,p)\n",
    "print(R2_x12,adjustR2)"
   ]
  },
  {
   "cell_type": "markdown",
   "metadata": {},
   "source": [
    "In our silly example above with 40 predictors, the adjusted R2 is the following..."
   ]
  },
  {
   "cell_type": "code",
   "execution_count": 13,
   "metadata": {},
   "outputs": [
    {
     "data": {
      "image/png": "[encoded data removed]",
      "text/plain": [
       "<Figure size 576x432 with 1 Axes>"
      ]
     },
     "metadata": {
      "needs_background": "light"
     },
     "output_type": "display_data"
    }
   ],
   "source": [
    "n = len(Y)\n",
    "p = np.arange(0,np.shape(X)[1]) + 1\n",
    "adjustR2 = adjustRsquared(np.asarray(rval),n,p)\n",
    "\n",
    "plt.figure(figsize=(8,6))\n",
    "plt.axhline(y=0,color='gray')\n",
    "plt.plot(np.arange(1,np.shape(X)[1]+1),rval,'o-', label='R2')\n",
    "plt.plot(np.arange(1,np.shape(X)[1]+1),adjustR2,'o-',color='red', label='adjusted R2')\n",
    "plt.xlabel('number of predictors')\n",
    "plt.ylabel('fraction variance explained')\n",
    "plt.legend()\n",
    "plt.title('Adjusted R2')\n",
    "plt.show()"
   ]
  },
  {
   "cell_type": "markdown",
   "metadata": {},
   "source": [
    "### Significance of Adjusted $R^2$"
   ]
  },
  {
   "cell_type": "code",
   "execution_count": null,
   "metadata": {},
   "outputs": [],
   "source": [
    "\n",
    "rVec = np.zeros(shape=(40,500))\n",
    "for nvar in np.arange(1,41):\n",
    "    r = []\n",
    "    for n in np.arange(0,500):\n",
    "        X = np.random.normal(0.,1.,size=(100,nvar))\n",
    "        Y = np.random.normal(0.,1.,size=100,)\n",
    "\n",
    "        # with sklearn\n",
    "        regr = linear_model.LinearRegression()\n",
    "        regr.fit(X[:,0:n+1], Y)\n",
    "        R2 = metrics.r2_score(Y,regr.predict(X[:,0:n+1]))\n",
    "        r.append(R2)\n",
    "\n",
    "    rVec[nvar-1,:] = adjustRsquared(np.asarray(r),100,nvar)"
   ]
  },
  {
   "cell_type": "code",
   "execution_count": null,
   "metadata": {},
   "outputs": [],
   "source": [
    "pTop = np.percentile(rVec,97.5,axis=1)\n",
    "pBot = np.percentile(rVec,2.5,axis=1)\n",
    "\n",
    "plt.figure(figsize=(8,6))\n",
    "plt.axhline(y=0,color='gray')\n",
    "plt.plot(np.arange(1,np.shape(X)[1]+1),adjustR2,'o-',color='red', label='adjusted R2')\n",
    "plt.fill_between(np.arange(1,len(p)+1), pBot, pTop,color='lightgray', label='confidence bounds')\n",
    "\n",
    "plt.xlabel('number of predictors')\n",
    "plt.ylabel('fraction variance explained')\n",
    "plt.legend()\n",
    "plt.title('Adjusted R2')\n",
    "plt.show()"
   ]
  }
 ],
 "metadata": {
  "kernelspec": {
   "display_name": "Python 3",
   "language": "python",
   "name": "python3"
  },
  "language_info": {
   "codemirror_mode": {
    "name": "ipython",
    "version": 3
   },
   "file_extension": ".py",
   "mimetype": "text/x-python",
   "name": "python",
   "nbconvert_exporter": "python",
   "pygments_lexer": "ipython3",
   "version": "3.7.3"
  }
 },
 "nbformat": 4,
 "nbformat_minor": 4
}
