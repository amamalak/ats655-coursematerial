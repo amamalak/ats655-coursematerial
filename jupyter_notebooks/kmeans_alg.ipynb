{
 "cells": [
  {
   "cell_type": "markdown",
   "metadata": {},
   "source": [
    "# K-means clustering algorithm\n",
    "#### by Elizabeth Barnes\n",
    "\n",
    "Demonstration of how the k-means clustering algorithm works."
   ]
  },
  {
   "cell_type": "code",
   "execution_count": 1,
   "metadata": {
    "collapsed": true
   },
   "outputs": [],
   "source": [
    "#!/usr/bin/env python3\n",
    "# -*- coding: utf-8 -*-\n",
    "\n",
    "#.............................................\n",
    "# IMPORT STATEMENTS\n",
    "#.............................................\n",
    "import numpy as np\n",
    "import matplotlib.pyplot as plt\n",
    "from scipy.cluster.vq import kmeans,vq\n",
    "import random\n",
    "\n",
    "import importlib\n",
    "import general_functions as gf\n",
    "importlib.reload(gf)\n",
    "gf.add_parent_dir_to_path()\n",
    "\n",
    "from lib import class_general_functions as cgf\n",
    "importlib.reload(cgf)\n",
    "\n",
    "#.............................................\n",
    "# PLOTTING COMMANDS and TOOLS\n",
    "#.............................................\n",
    "gf.cc()\n",
    "plt.ioff()\n",
    "\n",
    "COLOR_MAT = ['red','limegreen','blue','cornflowerblue','red','orange','navy','hotpink','grey']\n",
    "MS = 10\n",
    "fig_scale = 0.25"
   ]
  },
  {
   "cell_type": "markdown",
   "metadata": {},
   "source": [
    "### Setup the code\n",
    "This notebook shows you step-by-step how k-means works. Thus, I found some code online that allowed me to output the steps at different points (rather than the final answer). See below."
   ]
  },
  {
   "cell_type": "code",
   "execution_count": 2,
   "metadata": {
    "collapsed": true
   },
   "outputs": [],
   "source": [
    "# Define functions\n",
    "def cluster_points(X, mu):\n",
    "    clusters  = {}\n",
    "    for x in X:\n",
    "        bestmukey = min([(i[0], np.linalg.norm(x-mu[i[0]])) \\\n",
    "                    for i in enumerate(mu)], key=lambda t:t[1])[0]\n",
    "        try:\n",
    "            clusters[bestmukey].append(x)\n",
    "        except KeyError:\n",
    "            clusters[bestmukey] = [x]\n",
    "    return clusters\n",
    " \n",
    "def reevaluate_centers(mu, clusters):\n",
    "    newmu = []\n",
    "    keys = sorted(clusters.keys())\n",
    "    for k in keys:\n",
    "        newmu.append(np.mean(clusters[k], axis = 0))\n",
    "    return newmu\n",
    " \n",
    "def has_converged(mu, oldmu):\n",
    "    return (set([tuple(a) for a in mu]) == set([tuple(a) for a in oldmu]))\n",
    "\n",
    "def find_centers(X, K):\n",
    "    if isinstance(K, list):\n",
    "        oldmu = K\n",
    "        mu = K\n",
    "    else:\n",
    "        print('getting random centers')\n",
    "        # Initialize to K random centers\n",
    "        oldmu = random.sample(X, K)\n",
    "        mu = random.sample(X, K)\n",
    "    for i in range(0,1):\n",
    "        oldmu = mu\n",
    "        # Assign all points in X to clusters\n",
    "        clusters = cluster_points(X, mu)\n",
    "        # Reevaluate centers\n",
    "        mu = reevaluate_centers(oldmu, clusters)\n",
    "    return(mu, clusters)\n",
    "\n",
    "def init_board(N):\n",
    "    X = np.array([(random.uniform(-1, 1), random.uniform(-1, 1)) for i in range(N)])\n",
    "    return X\n",
    "    \n",
    "def init_board_gauss(N, k):\n",
    "    n = float(N)/k\n",
    "    X = []\n",
    "    for i in range(k):\n",
    "        c = (random.uniform(-1, 1), random.uniform(-1, 1))\n",
    "        s = random.uniform(0.05,0.5)\n",
    "        x = []\n",
    "        while len(x) < n:\n",
    "            a, b = np.array([random.gauss(c[0], s), random.gauss(c[1], s)])\n",
    "            # Continue drawing points from the distribution in the range [-1,1]\n",
    "            if abs(a) < 1 and abs(b) < 1:\n",
    "                x.append([a,b])\n",
    "        X.extend(x)\n",
    "    X = np.array(X)[:N]\n",
    "    return X "
   ]
  },
  {
   "cell_type": "markdown",
   "metadata": {},
   "source": [
    "### Define your data\n",
    "Here I am just making up a bunch of points to use. (I got these from an [example on wikipedia](https://en.wikipedia.org/wiki/K-means_clustering) and just generall eye-balled the coordinates.) I am choosing k=3, which means I will be looking to divide my data into 3 clusters. I also need to provide an initial guess for the three cluster centers."
   ]
  },
  {
   "cell_type": "code",
   "execution_count": 3,
   "metadata": {
    "collapsed": true
   },
   "outputs": [],
   "source": [
    "X = np.array([[0,3],[0,2],[0,1],[2,-1],[1.9,-2],[3,-3],[4,-3],[5.1,-2],[5,-1],[7,1],[7,1.5],[7,3.5]])\n",
    "initial_guess = [ [2,5],[2,0],[6.5,0] ]"
   ]
  },
  {
   "cell_type": "markdown",
   "metadata": {},
   "source": [
    "### Plot the resulting steps for k-means clustering\n",
    "Below I create the plot of the initial data and my initial guess for the clusters."
   ]
  },
  {
   "cell_type": "code",
   "execution_count": 4,
   "metadata": {},
   "outputs": [
    {
     "data": {
      "text/plain": [
       "(-4.5, 6.5)"
      ]
     },
     "execution_count": 4,
     "metadata": {},
     "output_type": "execute_result"
    }
   ],
   "source": [
    "fig, axes = plt.subplots(nrows=2, ncols=3, figsize = (cgf.fig_width*fig_scale, cgf.fig_width*fig_scale*.8))\n",
    "ax0, ax1, ax2, ax3, ax4, ax5 = axes.flatten()\n",
    "ax = [ax0,ax1,ax2,ax3,ax4,ax5]\n",
    "\n",
    "ax0.plot(X[:,0],X[:,1],'.', markeredgecolor = 'gray', color = 'gray', markersize = MS)\n",
    "\n",
    "for (ind,val) in enumerate(initial_guess):\n",
    "    ax0.plot(val[0],val[1],'*', color = COLOR_MAT[ind],markersize = MS, markeredgecolor = COLOR_MAT[ind])\n",
    "    \n",
    "plt.xlim(-1.,8.0)\n",
    "plt.ylim(-4.5,6.5) \n",
    "yvals = plt.ylim()\n",
    "xvals = plt.xlim()\n",
    "\n",
    "ax0.text(xvals[0]+(xvals[1]-xvals[0])/2.,yvals[1]*.98,'Data and Initial Guess', fontsize = 7, fontweight='bold', \n",
    "         horizontalalignment = 'center', verticalalignment='top')\n",
    "\n",
    "ax[0].set_xticks([])\n",
    "ax[0].set_yticks([])   \n",
    "ax[0].set_xlim(xvals)\n",
    "ax[0].set_ylim(yvals)"
   ]
  },
  {
   "cell_type": "markdown",
   "metadata": {},
   "source": [
    "Next, we loop through iterations and show how k-means updates the centers of the clusters."
   ]
  },
  {
   "cell_type": "code",
   "execution_count": 5,
   "metadata": {
    "scrolled": false
   },
   "outputs": [
    {
     "data": {
      "image/png": "[encoded data removed]",
      "text/plain": [
       "<matplotlib.figure.Figure at 0x60bdb7a20>"
      ]
     },
     "execution_count": 5,
     "metadata": {},
     "output_type": "execute_result"
    }
   ],
   "source": [
    "for j in range(0,5):\n",
    "    if j==0:\n",
    "        old_centers = initial_guess\n",
    "        centers, idx = find_centers(X,initial_guess)\n",
    "    else:\n",
    "        old_centers = centers\n",
    "        centers, idx = find_centers(X,old_centers)\n",
    "       \n",
    "    for (ind,val) in enumerate(centers):\n",
    "        x = [item[0] for item in idx[ind]]\n",
    "        y = [item[1] for item in idx[ind]]\n",
    "        \n",
    "        if(j != 0):\n",
    "            ax[j+1].text(xvals[0]+(xvals[1]-xvals[0])/2.,yvals[1]*.98,'Iteration ' + str(j), fontsize = 7, \n",
    "                     fontweight='bold', horizontalalignment = 'center', verticalalignment='top')\n",
    "\n",
    "            ax[j+1].plot(x,y,'.',markeredgecolor = COLOR_MAT[ind], color = COLOR_MAT[ind], markersize = MS)\n",
    "            ax[j+1].plot(val[0],val[1],'*', color = COLOR_MAT[ind],markersize = MS, markeredgecolor = COLOR_MAT[ind])\n",
    "            #ax = plt.axes()\n",
    "            ax[j+1].plot(old_centers[ind][0],old_centers[ind][1],'*',markeredgecolor = COLOR_MAT[ind],markersize = MS, \n",
    "                     color = 'none')\n",
    "            ax[j+1].plot([old_centers[ind][0], val[0]], [old_centers[ind][1], val[1]], '--', color = COLOR_MAT[ind])\n",
    "        else:\n",
    "            ax[j+1].text(xvals[0]+(xvals[1]-xvals[0])/2.,yvals[1]*.98,'Initial clusters', fontsize = 7, \n",
    "                     fontweight='bold', horizontalalignment = 'center', verticalalignment='top')\n",
    "            ax[j+1].plot(x,y,'.',markeredgecolor = COLOR_MAT[ind], color = COLOR_MAT[ind], markersize = MS)\n",
    "            ax[j+1].plot(old_centers[ind][0],old_centers[ind][1],'*', color = COLOR_MAT[ind],markersize = MS, \n",
    "                     markeredgecolor = COLOR_MAT[ind])\n",
    "            \n",
    "\n",
    "        ax[j+1].set_xticks([])\n",
    "        ax[j+1].set_yticks([])   \n",
    "        ax[j+1].set_xlim(xvals)\n",
    "        ax[j+1].set_ylim(yvals)\n",
    "    \n",
    "fig"
   ]
  },
  {
   "cell_type": "markdown",
   "metadata": {},
   "source": [
    "In the figure, the three colored stars denote the three centers of our clusters. Other than in the initial step, the points are colored based on which cluster center they are closest to. Dashed lines denote the movement of the cluster centers from one iteration to the next.\n",
    "\n",
    "After 4 iterations, the centers (stars) stop updating, and so, the algorithm has converged to a solution."
   ]
  }
 ],
 "metadata": {
  "kernelspec": {
   "display_name": "Python 3",
   "language": "python",
   "name": "python3"
  },
  "language_info": {
   "codemirror_mode": {
    "name": "ipython",
    "version": 3
   },
   "file_extension": ".py",
   "mimetype": "text/x-python",
   "name": "python",
   "nbconvert_exporter": "python",
   "pygments_lexer": "ipython3",
   "version": "3.6.4"
  }
 },
 "nbformat": 4,
 "nbformat_minor": 2
}
