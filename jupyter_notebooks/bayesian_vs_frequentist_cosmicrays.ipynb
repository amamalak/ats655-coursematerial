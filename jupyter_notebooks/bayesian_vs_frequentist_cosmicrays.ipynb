{
 "cells": [
  {
   "cell_type": "markdown",
   "metadata": {},
   "source": [
    "# Bayesian vs Frequentist Approach: cosmic rays\n",
    "#### by Elizabeth Barnes\n",
    "\n",
    "This example (based on the notes) breaks down a Bayesian approach for dealing with hypothesis testing. You can run this notebook to see how your confidence in the \"experts\" will change the results likelihood."
   ]
  },
  {
   "cell_type": "markdown",
   "metadata": {},
   "source": [
    "### The Problem Setup\n",
    "\n",
    "You've heard the hypothesis that variations in cosmic rays are driving the increase in global-mean temperatures we've seen over the last century, but you are very skeptical. You've been to a lot of seminars by experts in the field suggesting there is little evidence for this hypothesis. You calculate the correlation between incoming cosmic ray intensity and global-mean temperature and the resulting correlation has a p-value of 0.05. Should you now accept that cosmic rays are the answer and forget about $CO_2$?!\n",
    "\n",
    "### The Frequentist\n",
    "* $H_0:$ there is no real relationship between cosmic rays and global temperature increases\n",
    "* $H_a:$ there is a real relationship between cosmic rays and global temperature increases\n",
    "* p-value $=0.05$\n",
    "\n",
    "If you've chosen a confidence level of 95% ($\\alpha = 0.05$), then you will conclude that you can \"reject the null hypothesis\" that there is no relationship between cosimic rays and global temperature increase.  Note that this approach doesn’t care about Ha, nor does it care about all the evidence against cosmic rays."
   ]
  },
  {
   "cell_type": "code",
   "execution_count": 17,
   "metadata": {
    "collapsed": true
   },
   "outputs": [],
   "source": [
    "#!/usr/bin/env python3\n",
    "# -*- coding: utf-8 -*-\n",
    "\n",
    "#.............................................\n",
    "# IMPORT STATEMENTS\n",
    "#.............................................\n",
    "import numpy as np\n",
    "import matplotlib.pyplot as plt\n",
    "import importlib\n",
    "import scipy.stats as stats\n",
    "\n",
    "import general_functions as gf\n",
    "importlib.reload(gf)\n",
    "gf.add_parent_dir_to_path()\n",
    "\n",
    "from lib import class_general_functions as cgf\n",
    "importlib.reload(cgf)\n",
    "\n",
    "#.............................................\n",
    "# PLOTTING COMMANDS\n",
    "#.............................................\n",
    "gf.cc()\n",
    "plt.ioff()"
   ]
  },
  {
   "cell_type": "markdown",
   "metadata": {},
   "source": [
    "### The Bayesian\n",
    "* $R:$ cosmic rays are driving the increase in global mean temperature\n",
    "* $\\tilde{R}:$ cosmic rays are not\n",
    "* $E:$ the evidence obtained from the data, e.g. the correlation\n",
    "* Want: $\\textbf{Pr}(R|E)$\n",
    "* Know: $\\textbf{Pr}(E|\\tilde{R}) = 0.05$"
   ]
  },
  {
   "cell_type": "markdown",
   "metadata": {},
   "source": [
    "#### Bayes' Theorem\n",
    "$\\textbf{Pr}(R|E) = \\frac{\\textbf{Pr}(E|R)\\textbf{Pr}(R)}{\\textbf{Pr}(E|R)\\textbf{Pr}(R) + \\textbf{Pr}(E|\\tilde{R})\\textbf{Pr}(\\tilde{R})} $\n",
    "\n",
    "Need to Know: $\\textbf{Pr}(E|R), \\textbf{Pr}(R)$"
   ]
  },
  {
   "cell_type": "markdown",
   "metadata": {},
   "source": [
    "#### Expert Opinion\n",
    "$\\textbf{Pr}(R)$ is the prior probability - what you thought the likelihood that cosmic rays were driving the temperature changes *before* analyzing the data. "
   ]
  },
  {
   "cell_type": "code",
   "execution_count": 18,
   "metadata": {
    "collapsed": true
   },
   "outputs": [],
   "source": [
    "P_R = .01 # probability of R; you are very skeptical\n",
    "P_nR = 1.0-.01 # probability of not R"
   ]
  },
  {
   "cell_type": "markdown",
   "metadata": {},
   "source": [
    "We also need to know $\\textbf{Pr}(E|R)$, that is, the probability of getting the correlation you did if cosmic rays *are* causing the temperature changes. This one is tricky. For now, let's say that you believe if there was an influence of cosmic rays, you would very likely calculate a correlation as big (or bigger) than what you actually did."
   ]
  },
  {
   "cell_type": "code",
   "execution_count": 52,
   "metadata": {
    "collapsed": true
   },
   "outputs": [],
   "source": [
    "P_E_R = 0.95 # probability of evidence given cosmic rays are the true cause - you think that is likely"
   ]
  },
  {
   "cell_type": "markdown",
   "metadata": {},
   "source": [
    "Plugging into Bayes' Theorem"
   ]
  },
  {
   "cell_type": "code",
   "execution_count": 20,
   "metadata": {
    "collapsed": true
   },
   "outputs": [],
   "source": [
    "numerator = P_E_R*P_R\n",
    "denominator = P_E_R*P_R + P_E_nR*P_nR\n",
    "P_R_E = numerator/denominator"
   ]
  },
  {
   "cell_type": "markdown",
   "metadata": {},
   "source": [
    "#### Likelihood cosmic rays are causing global warming given your evidence:"
   ]
  },
  {
   "cell_type": "code",
   "execution_count": 21,
   "metadata": {},
   "outputs": [
    {
     "name": "stdout",
     "output_type": "stream",
     "text": [
      "16.0%\n"
     ]
    }
   ],
   "source": [
    "print(str(np.round(P_R_E*100)) + '%')"
   ]
  },
  {
   "cell_type": "markdown",
   "metadata": {},
   "source": [
    "#### Likelihood your null hypothesis is still true after the evidence:"
   ]
  },
  {
   "cell_type": "code",
   "execution_count": 23,
   "metadata": {},
   "outputs": [
    {
     "name": "stdout",
     "output_type": "stream",
     "text": [
      "84.0%\n"
     ]
    }
   ],
   "source": [
    "print(str(np.round((1-P_R_E)*100)) + '%')"
   ]
  },
  {
   "cell_type": "markdown",
   "metadata": {},
   "source": [
    "The likelihood is lower than your p-value (0.05) because you’ve allowed your prior knowledge to come into the calculation - you thought that the hypothesis was unbelievable (a “rare event”) to begin with."
   ]
  },
  {
   "cell_type": "code",
   "execution_count": 54,
   "metadata": {},
   "outputs": [
    {
     "name": "stdout",
     "output_type": "stream",
     "text": [
      "[ 0.95]\n"
     ]
    },
    {
     "data": {
      "image/png": "[encoded data removed]",
      "text/plain": [
       "<matplotlib.figure.Figure at 0x1a1c309e48>"
      ]
     },
     "metadata": {},
     "output_type": "display_data"
    }
   ],
   "source": [
    "p_r_vec = np.arange(0,1.0,.01)\n",
    "p_r_e_vec = []\n",
    "\n",
    "for p_r in p_r_vec:\n",
    "   \n",
    "    p_nr = 1.0 - p_r\n",
    "\n",
    "    numerator = P_E_R*p_r\n",
    "    denominator = P_E_R*p_r + P_E_nR*p_nr\n",
    "    p = numerator/denominator\n",
    "    p_r_e_vec = np.append(p_r_e_vec, p)\n",
    "    \n",
    "cgf.fig(1)\n",
    "plt.plot(p_r_vec,p_r_e_vec, '.-k', linewidth = 1.0)\n",
    "\n",
    "# if you have no prior knowledge, then Pr(R) = .5 and Pr(R|E) = 95% assuming Pr(E|R) = .95\n",
    "plt.plot(.5, p_r_e_vec[p_r_vec==.5],'*r') \n",
    "plt.plot((.5,.5),(0,p_r_e_vec[p_r_vec==.5]),'--r', linewidth = 1.)\n",
    "plt.plot((0,.5),(p_r_e_vec[p_r_vec==.5],p_r_e_vec[p_r_vec==.5]),'--r', linewidth = 1.)\n",
    "\n",
    "plt.ylim(0,1.0)\n",
    "plt.xlim(0,1.0)\n",
    "plt.ylabel('Pr(R|E)')\n",
    "plt.xlabel('Pr(R)')\n",
    "plt.title('Dependence of Pr(R|E) on prior probability P(R)')\n",
    "plt.show()"
   ]
  }
 ],
 "metadata": {
  "kernelspec": {
   "display_name": "Python 3",
   "language": "python",
   "name": "python3"
  },
  "language_info": {
   "codemirror_mode": {
    "name": "ipython",
    "version": 3
   },
   "file_extension": ".py",
   "mimetype": "text/x-python",
   "name": "python",
   "nbconvert_exporter": "python",
   "pygments_lexer": "ipython3",
   "version": "3.6.4"
  }
 },
 "nbformat": 4,
 "nbformat_minor": 2
}
